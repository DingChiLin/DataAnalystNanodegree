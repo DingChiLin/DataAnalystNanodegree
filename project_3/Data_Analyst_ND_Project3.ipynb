{
 "cells": [
  {
   "cell_type": "markdown",
   "metadata": {},
   "source": [
    "#OpenStreetMap Sample Project Data Wrangling with MongoDB\n",
    "\n",
    "### <font color='blown'>Map Area: Taipei, Taiwan</font>\n",
    "\n",
    "https://www.openstreetmap.org/export#map=11/25.0380/121.5634"
   ]
  },
  {
   "cell_type": "markdown",
   "metadata": {},
   "source": [
    "### 1. Problems Encountered in the Map"
   ]
  },
  {
   "cell_type": "markdown",
   "metadata": {},
   "source": [
    "#### 1.1 Too many types of tags without unified rules\n",
    "\n",
    "There are 461 different types of tags in the whole data, if I make each of them as a hash key in my json, I will have lots of redundant keys that will make future investigation difficult. After looking the data, I figure out that there are lots of tag start with \"addr:\", so I can make the addr as first level key and put all those part behind it as the second level key, like this:\n",
    "\n",
    "    {\n",
    "        'addr':{\n",
    "            'city':'Taipei'\n",
    "            'street':'xx Road.'\n",
    "        }\n",
    "    }\n",
    "    \n",
    "Moreover, there are three tags \"name\", \"old_name\" and \"alt_name\", and both of them have lots of different language version, I only need to keep the \"name\" in my json file and make those different version of language as the second level key in my json data.\n",
    "\n",
    "After dealing with keys I listed above, there are only 171 distinct keys left and I keep them as it is and put them into my json file."
   ]
  },
  {
   "cell_type": "markdown",
   "metadata": {},
   "source": [
    "#### 1.2 There are both English and Chinese names in the 'is_in' tag\n",
    "\n",
    "I noticed that the value in the 'is_in' tag have different languages in my data, most of them is written in Chinese, but some of them is written as English and the Chinese version is kept in the 'is_in:zh' tag. Some of the Chinese value also have 'is_in:en' tag to keep the English ones, but not all. So I finally decide to keep the Chinese version as the only value in my json file since most of them can find the Chinese name, but some of them can't find the English name. The only one value in 'is_in' tag that I can't find a Chinese name is 'Taipei City, Taiwan', but I know the Chinese name of it, so I just hardcode it into my file."
   ]
  },
  {
   "cell_type": "markdown",
   "metadata": {},
   "source": [
    "#### 1.3 Authenticity of the position recorded in the data\n",
    "\n",
    "I want to make sure the street data I'm dealing with is in the right area as it should be, that is, the area of Taipei City. However, after doing some investigation, I realized that there are no official records that can tell me what's the exact range of one city. So I only check the following two things to give myself more confidence that the data is right.\n",
    "\n",
    "1. make sure all the 'lon' and 'lat' data in all the nodes lie between the square box the OpenStreetMap website give me, that is, 121.2678~121.8590 and 24.8615~25.2143, and the result is positive.\n",
    "\n",
    "2. make sure the most representative landscape in Taipei - \"The Taipei 101\" is in the right position. I compare the position data in the node with tag 'Taipei 101' with the data I got from wikipedia. Here is what I got:\n",
    "\n",
    "    1. The data from OpenStreetData node : 25.0341934, 121.5636644\n",
    "    2. The data from wikipedia : 25°2′1″N 121°33′52″E and can be converted into 25.0336111, 121.56444444\n",
    "    \n",
    "   There is a slightly difference between this two positions, but the width of this building is about 642 meter (again, got from wikipedia) and that can be converted into 0.0058 degree, that means the different of the positions between the two data is smaller than the width of the building itself. I think the measurement error is under tolerance.\n",
    "    "
   ]
  },
  {
   "cell_type": "markdown",
   "metadata": {},
   "source": [
    "### 2. Data Overview\n",
    "\n"
   ]
  },
  {
   "cell_type": "markdown",
   "metadata": {},
   "source": [
    "### 3. Additional Ideas\n"
   ]
  }
 ],
 "metadata": {
  "kernelspec": {
   "display_name": "Python 3",
   "language": "python",
   "name": "python3"
  },
  "language_info": {
   "codemirror_mode": {
    "name": "ipython",
    "version": 3
   },
   "file_extension": ".py",
   "mimetype": "text/x-python",
   "name": "python",
   "nbconvert_exporter": "python",
   "pygments_lexer": "ipython3",
   "version": "3.4.3"
  }
 },
 "nbformat": 4,
 "nbformat_minor": 0
}
