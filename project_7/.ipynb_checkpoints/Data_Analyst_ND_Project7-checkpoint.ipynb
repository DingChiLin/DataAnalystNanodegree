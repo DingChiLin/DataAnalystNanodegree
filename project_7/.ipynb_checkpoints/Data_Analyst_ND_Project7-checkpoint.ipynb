{
 "cells": [
  {
   "cell_type": "markdown",
   "metadata": {},
   "source": [
    "#A/B Test Final Project"
   ]
  },
  {
   "cell_type": "markdown",
   "metadata": {},
   "source": [
    "## Experiment Design"
   ]
  },
  {
   "cell_type": "markdown",
   "metadata": {},
   "source": [
    "### 1. Metric Choice\n",
    "\n",
    "#### List which metrics you will use as invariant metrics and evaluation metrics here. (These should be the same metrics you chose in the \"Choosing Invariant Metrics\" and \"Choosing Evaluation Metrics\" quizzes.)\n",
    "\n",
    "1. invariant metrics : Number of cookies, Number of clicks, Click-through-probability\n",
    "\n",
    "2. evaluaion metrics : Gross conversion, Net conversion"
   ]
  },
  {
   "cell_type": "markdown",
   "metadata": {},
   "source": [
    "### 2. Measuring Standard Deviation\n",
    "\n",
    "#### List the standard deviation of each of your evaluation metrics. (These should be the answers from the \"Calculating standard deviation\" quiz.)\n",
    "\n",
    "1. Gross conversion : 0.0202\n",
    "2. Net conversion : 0.0156"
   ]
  },
  {
   "cell_type": "markdown",
   "metadata": {},
   "source": [
    "### 3. Sizing\n",
    "\n",
    "#### A. Number of Samples vs. Power \n",
    "####Indicate whether you will use the Bonferroni correction during your analysis phase, and give the number of pageviews you will need to power you experiment appropriately. (These should be the answers from the \"Calculating Number of Pageviews\" quiz.)\n",
    "\n",
    "1. Using bonferroni correction ? : No\n",
    "2. Needed Pageviews : 685325\n",
    "\n",
    "#### B . Duration vs. Exposure \n",
    "####Indicate what fraction of traffic you would divert to this experiment and, given this, how many days you would need to run the experiment. (These should be the answers from the \"Choosing Duration and Exposure\" quiz.)\n",
    "\n",
    "1. Fraction of traffic to divert : 1\n",
    "2. Days need to run the experiment : 18\n"
   ]
  },
  {
   "cell_type": "markdown",
   "metadata": {},
   "source": [
    "## Experiment Analysis\n",
    "\n",
    "\n"
   ]
  },
  {
   "cell_type": "markdown",
   "metadata": {},
   "source": [
    "### 1. Sanity Checks\n",
    "\n",
    "#### For each of your invariant metrics, give the 95% confidence interval for the value you expect to observe, the actual observed value, and whether the metric passes your sanity check. (These should be the answers from the \"Sanity Checks\" quiz.)\n",
    "\n",
    "| Invariant metrics          | Lower bound | Upper bound | Observed | Passes |\n",
    "|---|---|---|---|:-:|\n",
    "| Number of cookies          | 0.4988      | 0.5012      | 0.5006   | Yes    |\n",
    "| Number of clicks           | 0.4959      | 0.5041      | 0.5005   | Yes    |\n",
    "| Click-through-probability  | -0.0013     | 0.0013      | 0.0001   | Yes    |"
   ]
  },
  {
   "cell_type": "markdown",
   "metadata": {},
   "source": [
    "### 2. Result Analysis\n",
    "\n",
    "#### A. Effect Size Tests\n",
    "#### For each of your evaluation metrics, give a 95% confidence interval around the difference between the experiment and control groups. Indicate whether each metric is statistically and practically significant. (These should be the answers from the \"Effect Size Tests\" quiz.)\n",
    "\n",
    "| Evaluation metrics  | statistically significant | practically significant |\n",
    "|---|:-:|:-:|\n",
    "| Gross conversion    | Yes                       | Yes                     |\n",
    "| Net conversion      | No                        | No                      |\n",
    "\n",
    "\n",
    "#### B. Sign Tests\n",
    "#### For each of your evaluation metrics, do a sign test using the day-by-day data, and report the p-value of the sign test and whether the result is statistically significant. (These should be the answers from the \"Sign Tests\" quiz.)\n",
    "    \n",
    "| Evaluation metrics  | p-value | statistically significant |\n",
    "|---|:-:|:-:|\n",
    "| Gross conversion    | 0.0026  | Yes                       |\n",
    "| Net conversion      | 0.6776  | No                        |\n",
    "    \n",
    "#### C. Summary\n",
    "#### State whether you used the Bonferroni correction, and explain why or why not. If there are any discrepancies between the effect size hypothesis tests and the sign tests, describe the discrepancy and why you think it arose.\n",
    "\n",
    "1. using Bonferroni correction : No, since my evaluation metrics is highly correlated with each other, using Bonferroni correction may be too conservative.\n",
    "\n",
    "2. There is no discrepancies between the effect size hypothesis tests and the sign tests"
   ]
  },
  {
   "cell_type": "markdown",
   "metadata": {},
   "source": [
    "### 3. Recommendation\n",
    "\n",
    "\n"
   ]
  },
  {
   "cell_type": "markdown",
   "metadata": {},
   "source": [
    "## Follow-Up Experiment\n",
    "\n",
    "\n"
   ]
  },
  {
   "cell_type": "markdown",
   "metadata": {},
   "source": [
    "#### Give a high-level description of the follow up experiment you would run, what your hypothesis would be, what metrics you would want to measure, what your unit of diversion would be, and your reasoning for these choices.\n",
    "\n",
    "I would like to run a same (or similar) experiment while choosing the retention as the evaluation metric and using a different minimum detectable effect value. Since I think the whole point of this experiment is trying to tell user how much effort they need to put into this course and think it will reduce the number of users who drop out in the middle because they have no time, that is, the retention rate! However, in this experiment, using retention as one of the evaluation metric and take 0.01 as the minimum detectable effect value will result in huge amount of pageview requirement and makes the duration of the whole experiment unacceptable. If I using 0.03 as the minimum detectable effect value, we can track the change of retention and get conclusion withing 13 days. Even adding the 14 free trial days (since we can only track those new users who didn't even join the free trial course before), we only need 27 days to finish this experiment and see the result, I think that is acceptable and more resonable.\n",
    "\n",
    "1. Experiment : the same as the original one\n",
    "2. Metrics : retention, that is, number of user-ids to remain enrolled past the 14-day boundary (and thus make at least one payment) divided by number of user-ids to enrolled the free trial.\n",
    "3. Hypothesis : retention will grow at least 0.03 after mentioning the possible time-consuming upfront. (dmin = 0.03)\n",
    "4. Unit of diversion : user-ids "
   ]
  }
 ],
 "metadata": {
  "kernelspec": {
   "display_name": "Python 3",
   "language": "python",
   "name": "python3"
  },
  "language_info": {
   "codemirror_mode": {
    "name": "ipython",
    "version": 3
   },
   "file_extension": ".py",
   "mimetype": "text/x-python",
   "name": "python",
   "nbconvert_exporter": "python",
   "pygments_lexer": "ipython3",
   "version": "3.4.3"
  }
 },
 "nbformat": 4,
 "nbformat_minor": 0
}
