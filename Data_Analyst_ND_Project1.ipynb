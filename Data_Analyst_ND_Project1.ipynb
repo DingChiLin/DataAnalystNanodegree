{
 "cells": [
  {
   "cell_type": "markdown",
   "metadata": {},
   "source": [
    "#Stroop task!\n",
    "\n",
    "In a Stroop task, participants are presented with a list of words, with each word displayed in a color of ink. The participant’s task is to say out loud the color of the ink in which the word is printed. The task has two conditions: a congruent words condition, and an incongruent words condition. In the congruent words condition, the words being displayed are color words whose names match the colors in which they are printed: for example RED, BLUE. In the incongruent words condition, the words displayed are color words whose names do not match the colors in which they are printed: for example PURPLE, ORANGE. In each case, we measure the time it takes to name the ink colors in equally-sized lists. Each participant will go through and record a time from each condition."
   ]
  },
  {
   "cell_type": "markdown",
   "metadata": {},
   "source": [
    "#### 1. What is our independent variable? What is our dependent variable?\n",
    "\n",
    "1. independent variable: words condition (congruent and incongruent) <br/>\n",
    "2. dependent variable: the time it takes to name the ink colors"
   ]
  },
  {
   "cell_type": "markdown",
   "metadata": {},
   "source": [
    "#### 2. What is an appropriate set of hypotheses for this task? What kind of statistical test do you expect to perform? Justify your choices.\n",
    "\n",
    "let:\n",
    "\n",
    "u1 = the time it takes to name the ink colors in incongruent case\n",
    "u2 = the time it takes to name the ink colors in congruent case\n",
    "\n",
    "1. Null Hypothesis: u1 = u2 <br/>\n",
    "2. Alertnative Hypothese: u1 > u2 or u1 < u2 <br/>\n",
    "3. I will perform a two-tailed statistical test <br/>\n",
    "4. While the time it takes to name the ink colors in incongruent case should be longer than the time takes in congruent case intuitively, it may happen the other way (maybe participants were more concentrating and trying to perform better in the incongruent case and the result will be interesting), so I will run a two-tailed statistic test to make sure whether the time each participant took to react will be changed by the treatment, no matter it is longer or shorter."
   ]
  },
  {
   "cell_type": "markdown",
   "metadata": {},
   "source": [
    "#### 3. Report some descriptive statistics regarding this dataset. Include at least one measure of central tendency and at least one measure of variability.\n",
    "\n",
    "1. There are 24 participants => N = 24\n",
    "2. Congruent case => Mean: 14.051  Standard Deviation: 3.559 \n",
    "3. Incongrunt case => Mean: 22.016  Standard Deviation: 4.797\n",
    "4. Pairwise time differences between congruent and incongrunt case => Mean: 7.965 Standard Deviation: 4.865\n",
    "5. More details about central tendency and variability are shown below"
   ]
  },
  {
   "cell_type": "code",
   "execution_count": 52,
   "metadata": {
    "collapsed": false,
    "scrolled": false
   },
   "outputs": [
    {
     "data": {
      "text/plain": [
       "Congruent      24\n",
       "Incongruent    24\n",
       "dtype: int64"
      ]
     },
     "execution_count": 52,
     "metadata": {},
     "output_type": "execute_result"
    }
   ],
   "source": [
    "import pandas as pd\n",
    "path = r'~/Documents/stroopdata.csv'\n",
    "\n",
    "dataFrame = pd.read_csv(path)\n",
    "dataFrame\n",
    "dataFrame.count()"
   ]
  },
  {
   "cell_type": "code",
   "execution_count": 50,
   "metadata": {
    "collapsed": false
   },
   "outputs": [
    {
     "data": {
      "text/html": [
       "<div>\n",
       "<table border=\"1\" class=\"dataframe\">\n",
       "  <thead>\n",
       "    <tr style=\"text-align: right;\">\n",
       "      <th></th>\n",
       "      <th>Congruent</th>\n",
       "      <th>Incongruent</th>\n",
       "    </tr>\n",
       "  </thead>\n",
       "  <tbody>\n",
       "    <tr>\n",
       "      <th>count</th>\n",
       "      <td>24.000000</td>\n",
       "      <td>24.000000</td>\n",
       "    </tr>\n",
       "    <tr>\n",
       "      <th>mean</th>\n",
       "      <td>14.051125</td>\n",
       "      <td>22.015917</td>\n",
       "    </tr>\n",
       "    <tr>\n",
       "      <th>std</th>\n",
       "      <td>3.559358</td>\n",
       "      <td>4.797057</td>\n",
       "    </tr>\n",
       "    <tr>\n",
       "      <th>min</th>\n",
       "      <td>8.630000</td>\n",
       "      <td>15.687000</td>\n",
       "    </tr>\n",
       "    <tr>\n",
       "      <th>25%</th>\n",
       "      <td>11.895250</td>\n",
       "      <td>18.716750</td>\n",
       "    </tr>\n",
       "    <tr>\n",
       "      <th>50%</th>\n",
       "      <td>14.356500</td>\n",
       "      <td>21.017500</td>\n",
       "    </tr>\n",
       "    <tr>\n",
       "      <th>75%</th>\n",
       "      <td>16.200750</td>\n",
       "      <td>24.051500</td>\n",
       "    </tr>\n",
       "    <tr>\n",
       "      <th>max</th>\n",
       "      <td>22.328000</td>\n",
       "      <td>35.255000</td>\n",
       "    </tr>\n",
       "  </tbody>\n",
       "</table>\n",
       "</div>"
      ],
      "text/plain": [
       "       Congruent  Incongruent\n",
       "count  24.000000    24.000000\n",
       "mean   14.051125    22.015917\n",
       "std     3.559358     4.797057\n",
       "min     8.630000    15.687000\n",
       "25%    11.895250    18.716750\n",
       "50%    14.356500    21.017500\n",
       "75%    16.200750    24.051500\n",
       "max    22.328000    35.255000"
      ]
     },
     "execution_count": 50,
     "metadata": {},
     "output_type": "execute_result"
    }
   ],
   "source": [
    "dataFrame.describe()"
   ]
  },
  {
   "cell_type": "code",
   "execution_count": 17,
   "metadata": {
    "collapsed": false
   },
   "outputs": [
    {
     "data": {
      "text/plain": [
       "7.964791666666667"
      ]
     },
     "execution_count": 17,
     "metadata": {},
     "output_type": "execute_result"
    }
   ],
   "source": [
    "(dataFrame['Incongruent'] - dataFrame['Congruent']).mean()"
   ]
  },
  {
   "cell_type": "code",
   "execution_count": 18,
   "metadata": {
    "collapsed": false
   },
   "outputs": [
    {
     "data": {
      "text/plain": [
       "4.864826910359056"
      ]
     },
     "execution_count": 18,
     "metadata": {},
     "output_type": "execute_result"
    }
   ],
   "source": [
    "(dataFrame['Incongruent'] - dataFrame['Congruent']).std()"
   ]
  },
  {
   "cell_type": "markdown",
   "metadata": {},
   "source": [
    "#### 4. Provide one or two visualizations that show the distribution of the sample data. Write one or two sentences noting what you observe about the plot or plots.\n",
    "\n",
    "Plot1 & Plot2 below shows the time it takes to name the ink colors in incongruent situation is more then the time it takes in Congruent situation for everyone of the participants.\n",
    "\n",
    "Plot3 is much more interesting, I try to find the correlation bewteen the two case, since, intuitively , the one spend more time in the Congruent case should also spend more time in the Incongruent case. However ,the result shows that the correlation is not strong (only 0.35).\n",
    "\n"
   ]
  },
  {
   "cell_type": "code",
   "execution_count": 39,
   "metadata": {
    "collapsed": false
   },
   "outputs": [
    {
     "name": "stdout",
     "output_type": "stream",
     "text": [
      "Populating the interactive namespace from numpy and matplotlib\n"
     ]
    },
    {
     "data": {
      "image/png": "[encoded data removed]",
      "text/plain": [
       "<matplotlib.figure.Figure at 0x107945050>"
      ]
     },
     "metadata": {},
     "output_type": "display_data"
    },
    {
     "data": {
      "image/png": "[encoded data removed]",
      "text/plain": [
       "<matplotlib.figure.Figure at 0x108778ad0>"
      ]
     },
     "metadata": {},
     "output_type": "display_data"
    },
    {
     "data": {
      "image/png": "[encoded data removed]",
      "text/plain": [
       "<matplotlib.figure.Figure at 0x10874d590>"
      ]
     },
     "metadata": {},
     "output_type": "display_data"
    },
    {
     "data": {
      "text/html": [
       "<div>\n",
       "<table border=\"1\" class=\"dataframe\">\n",
       "  <thead>\n",
       "    <tr style=\"text-align: right;\">\n",
       "      <th></th>\n",
       "      <th>Congruent</th>\n",
       "      <th>Incongruent</th>\n",
       "    </tr>\n",
       "  </thead>\n",
       "  <tbody>\n",
       "    <tr>\n",
       "      <th>Congruent</th>\n",
       "      <td>1.00000</td>\n",
       "      <td>0.35182</td>\n",
       "    </tr>\n",
       "    <tr>\n",
       "      <th>Incongruent</th>\n",
       "      <td>0.35182</td>\n",
       "      <td>1.00000</td>\n",
       "    </tr>\n",
       "  </tbody>\n",
       "</table>\n",
       "</div>"
      ],
      "text/plain": [
       "             Congruent  Incongruent\n",
       "Congruent      1.00000      0.35182\n",
       "Incongruent    0.35182      1.00000"
      ]
     },
     "execution_count": 39,
     "metadata": {},
     "output_type": "execute_result"
    }
   ],
   "source": [
    "%pylab inline\n",
    "\n",
    "import matplotlib.pyplot as plt\n",
    "import matplotlib.patches as mpatches\n",
    "\n",
    "#---Plot 1\n",
    "\n",
    "plt.scatter(x=dataFrame.index, y=dataFrame['Congruent'], color='blue', label='Congruent')\n",
    "plt.scatter(x=dataFrame.index, y=dataFrame['Incongruent'], color='red', label='Incongruent')\n",
    "\n",
    "blue_patch = mpatches.Patch(color='red', label='Incongruent')\n",
    "red_patch = mpatches.Patch(color='blue', label='Congruent')\n",
    "plt.legend(handles=[blue_patch,red_patch])\n",
    "\n",
    "plt.xlabel(\"Person index\")\n",
    "plt.ylabel(\"the time it takes to name the ink colors\")\n",
    "plt.title(\"Plot 1\")\n",
    "plt.show()\n",
    "\n",
    "#---Plot 2\n",
    "\n",
    "barWidth = 0.30\n",
    "plt.bar(dataFrame.index, dataFrame['Congruent'], barWidth, alpha=0.4, color=\"blue\", label='Congruent')\n",
    "plt.bar(dataFrame.index+barWidth, dataFrame['Incongruent'], barWidth, alpha=0.4, color=\"red\", label='Incongruent')\n",
    "blue_patch = mpatches.Patch(color='red', label='Incongruent')\n",
    "red_patch = mpatches.Patch(color='blue', label='Congruent')\n",
    "plt.legend(handles=[blue_patch,red_patch])\n",
    "plt.ylabel(\"the time it takes to name the ink colors\")\n",
    "plt.xlabel(\"Person index\")\n",
    "plt.title(\"Plot 2\")\n",
    "plt.show()\n",
    "\n",
    "#---Plot 3\n",
    "\n",
    "plt.scatter(x=dataFrame['Congruent'], y=dataFrame['Incongruent'], color='blue', label='Congruent')\n",
    "plt.xlabel(\"Time spend in Congruent case\")\n",
    "plt.ylabel(\"Time spend in Incongruent case\")\n",
    "plt.title(\"Plot 3\")\n",
    "plt.show()\n",
    "\n",
    "dataFrame.corr()"
   ]
  },
  {
   "cell_type": "markdown",
   "metadata": {},
   "source": [
    "#### 5. Now, perform the statistical test and report your results. What is your confidence level and your critical statistic value? Do you reject the null hypothesis or fail to reject it? Come to a conclusion in terms of the experiment task. Did the results match up with your expectations?\n",
    "\n",
    "1. mean of pairwise differences = 7.965\n",
    "2. std of pairwise differences = 4.865\n",
    "3. SE = 4.865 / (24)^0.5 = 0.993\n",
    "4. t-statistic = (7.965 - 0) / 0.993 = 8.02\n",
    "5. using alpha = 0.01 (confidence level = 0.99) <br/>\n",
    "6. t-critical (for two tailed test, df = 23) = +-2.807 <br/>\n",
    "\n",
    "report in APA format:\n",
    "\n",
    "1. t(23)=+-2.807, p=.01, two-tailed\n",
    "2. 99% CI = (5.178,10.752)\n",
    "3. r^2 = 0.74\n",
    "\n",
    "t-statistic is much larger than t-critical, so I can reject the null hypothesis. It's match up with my expectation.<br/>\n",
    "\n",
    "\n",
    "Moreover, even I change my Null-hypothesis to be u1 - u2 <= 5, and the Alternative-hypothesis to be u1 - u2 > 5. <br/>\n",
    "(using the u1 and u2 I defined in question 2) <br/>\n",
    "I still have t-statistic as 2.986 and can reject the Null-hypothesis with the same alpha. <br/>\n"
   ]
  },
  {
   "cell_type": "markdown",
   "metadata": {},
   "source": [
    "#### 6. Optional: What do you think is responsible for the effects observed? Can you think of an alternative or similar task that would result in a similar effect? Some research about the problem will be helpful for thinking about these two questions!\n",
    "\n",
    "1. Knowing the meaning of the word is one of the main reasons that cause the confusion. If we use other language that we don't know to perform the test, like Arabic, it may not show any significant differences for the time it takes to name the ink in Congruent and Incongruent cases.<br/><br/>\n",
    "\n",
    "2. We can use music to do some similar tests, if we ask the participant to listen notes and show the name of the notes (like do, re, mi ...) in the same time, for those who have absolute pitch may feel much more difficult to name the note than normal people without any musical training."
   ]
  }
 ],
 "metadata": {
  "kernelspec": {
   "display_name": "Python 2",
   "language": "python",
   "name": "python2"
  },
  "language_info": {
   "codemirror_mode": {
    "name": "ipython",
    "version": 2
   },
   "file_extension": ".py",
   "mimetype": "text/x-python",
   "name": "python",
   "nbconvert_exporter": "python",
   "pygments_lexer": "ipython2",
   "version": "2.7.10"
  }
 },
 "nbformat": 4,
 "nbformat_minor": 0
}
